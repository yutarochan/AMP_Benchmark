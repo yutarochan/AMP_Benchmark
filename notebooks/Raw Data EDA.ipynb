{
 "cells": [
  {
   "cell_type": "markdown",
   "metadata": {},
   "source": [
    "# Raw Data EDA\n",
    "This notebook performs a quick overview of the dataset and obtains some key statistics."
   ]
  },
  {
   "cell_type": "code",
   "execution_count": 38,
   "metadata": {},
   "outputs": [],
   "source": [
    "import numpy as np\n",
    "from scipy import stats\n",
    "import modin.pandas as pd"
   ]
  },
  {
   "cell_type": "code",
   "execution_count": 45,
   "metadata": {},
   "outputs": [],
   "source": [
    "# Application Parameters\n",
    "DATA_ROOT = '../data/proc/data3.csv'"
   ]
  },
  {
   "cell_type": "markdown",
   "metadata": {},
   "source": [
    "## ADP3 Dataset"
   ]
  },
  {
   "cell_type": "code",
   "execution_count": 65,
   "metadata": {},
   "outputs": [
    {
     "data": {
      "text/html": [
       "<div>\n",
       "<style scoped>\n",
       "    .dataframe tbody tr th:only-of-type {\n",
       "        vertical-align: middle;\n",
       "    }\n",
       "\n",
       "    .dataframe tbody tr th {\n",
       "        vertical-align: top;\n",
       "    }\n",
       "\n",
       "    .dataframe thead th {\n",
       "        text-align: right;\n",
       "    }\n",
       "</style>\n",
       "<table border=\"1\" class=\"dataframe\">\n",
       "  <thead>\n",
       "    <tr style=\"text-align: right;\">\n",
       "      <th></th>\n",
       "      <th>PepID</th>\n",
       "      <th>AMPLabel</th>\n",
       "      <th>AMP</th>\n",
       "      <th>PepType</th>\n",
       "    </tr>\n",
       "  </thead>\n",
       "  <tbody>\n",
       "    <tr>\n",
       "      <th>0</th>\n",
       "      <td>A00001</td>\n",
       "      <td>1</td>\n",
       "      <td>GLWSKIKEVGKEAAKAAAKAAGKAALGAVSEAV</td>\n",
       "      <td>REAL</td>\n",
       "    </tr>\n",
       "    <tr>\n",
       "      <th>1</th>\n",
       "      <td>A00002</td>\n",
       "      <td>1</td>\n",
       "      <td>YVPLPNVPQPGRRPFPTFPGQGPFNPKIKWPQGY</td>\n",
       "      <td>REAL</td>\n",
       "    </tr>\n",
       "    <tr>\n",
       "      <th>2</th>\n",
       "      <td>A00003</td>\n",
       "      <td>1</td>\n",
       "      <td>NLCERASLTWTGNCGNTGHCDTQCRNWESAKHGACHKRGNWKCFCYFDC</td>\n",
       "      <td>REAL</td>\n",
       "    </tr>\n",
       "    <tr>\n",
       "      <th>3</th>\n",
       "      <td>A00004</td>\n",
       "      <td>1</td>\n",
       "      <td>VFIDILDKVENAIHNAAQVGIGFAKPFEKLINPK</td>\n",
       "      <td>REAL</td>\n",
       "    </tr>\n",
       "    <tr>\n",
       "      <th>4</th>\n",
       "      <td>A00005</td>\n",
       "      <td>1</td>\n",
       "      <td>GNNRPVYIPQPRPPHPRI</td>\n",
       "      <td>REAL</td>\n",
       "    </tr>\n",
       "  </tbody>\n",
       "</table>\n",
       "</div>"
      ],
      "text/plain": [
       "    PepID  AMPLabel                                                AMP PepType\n",
       "0  A00001         1                  GLWSKIKEVGKEAAKAAAKAAGKAALGAVSEAV    REAL\n",
       "1  A00002         1                 YVPLPNVPQPGRRPFPTFPGQGPFNPKIKWPQGY    REAL\n",
       "2  A00003         1  NLCERASLTWTGNCGNTGHCDTQCRNWESAKHGACHKRGNWKCFCYFDC    REAL\n",
       "3  A00004         1                 VFIDILDKVENAIHNAAQVGIGFAKPFEKLINPK    REAL\n",
       "4  A00005         1                                 GNNRPVYIPQPRPPHPRI    REAL"
      ]
     },
     "execution_count": 65,
     "metadata": {},
     "output_type": "execute_result"
    }
   ],
   "source": [
    "# Read Dataset\n",
    "adp = pd.read_csv(DATA_ROOT)\n",
    "adp = adp[adp.PepID.str.contains('A')][adp.PepID.str.contains('R') == False]\n",
    "adp.head()"
   ]
  },
  {
   "cell_type": "code",
   "execution_count": 84,
   "metadata": {},
   "outputs": [
    {
     "name": "stdout",
     "output_type": "stream",
     "text": [
      "TOTAL: 10278\n",
      "POS SAMPLE: (1713, 4)\n",
      "NEG SAMPLE: (8565, 4)\n"
     ]
    },
    {
     "name": "stderr",
     "output_type": "stream",
     "text": [
      "The node with client ID 8b649d3321970d84f0441a8d3bc84a231b24682f has been marked dead because the monitor has missed too many heartbeats from it.\n"
     ]
    }
   ],
   "source": [
    "print('TOTAL: ' + str(adp.shape[0]))\n",
    "print('POS SAMPLE: ' + str(adp[adp.AMPLabel == 1].shape))\n",
    "print('NEG SAMPLE: ' + str(adp[adp.AMPLabel == 0].shape))"
   ]
  },
  {
   "cell_type": "code",
   "execution_count": 73,
   "metadata": {},
   "outputs": [
    {
     "name": "stdout",
     "output_type": "stream",
     "text": [
      "DescribeResult(nobs=10278, minmax=(11, 174), mean=34.08756567425569, variance=439.06599113488073, skewness=2.2760717126863685, kurtosis=7.136920525428415)\n"
     ]
    }
   ],
   "source": [
    "seq_lens = np.array([len(a) for a in adp['AMP'].tolist()])\n",
    "print(stats.describe(seq_lens))"
   ]
  },
  {
   "cell_type": "markdown",
   "metadata": {},
   "source": [
    "## DAMPD Dataset"
   ]
  },
  {
   "cell_type": "code",
   "execution_count": 74,
   "metadata": {},
   "outputs": [
    {
     "data": {
      "text/html": [
       "<div>\n",
       "<style scoped>\n",
       "    .dataframe tbody tr th:only-of-type {\n",
       "        vertical-align: middle;\n",
       "    }\n",
       "\n",
       "    .dataframe tbody tr th {\n",
       "        vertical-align: top;\n",
       "    }\n",
       "\n",
       "    .dataframe thead th {\n",
       "        text-align: right;\n",
       "    }\n",
       "</style>\n",
       "<table border=\"1\" class=\"dataframe\">\n",
       "  <thead>\n",
       "    <tr style=\"text-align: right;\">\n",
       "      <th></th>\n",
       "      <th>PepID</th>\n",
       "      <th>AMPLabel</th>\n",
       "      <th>AMP</th>\n",
       "      <th>PepType</th>\n",
       "    </tr>\n",
       "  </thead>\n",
       "  <tbody>\n",
       "    <tr>\n",
       "      <th>10278</th>\n",
       "      <td>D00001</td>\n",
       "      <td>1</td>\n",
       "      <td>VVCACRRALCLPRERRAGFCRIRGRIHPLCCRR</td>\n",
       "      <td>REAL</td>\n",
       "    </tr>\n",
       "    <tr>\n",
       "      <th>10279</th>\n",
       "      <td>D00002</td>\n",
       "      <td>1</td>\n",
       "      <td>GICACRRRFCPNSERFSGYCRVNGARYVRCCSRR</td>\n",
       "      <td>REAL</td>\n",
       "    </tr>\n",
       "    <tr>\n",
       "      <th>10280</th>\n",
       "      <td>D00003</td>\n",
       "      <td>1</td>\n",
       "      <td>LRDLVCYCRSRGCKGRERMNGTCRKGHLLYTLCCR</td>\n",
       "      <td>REAL</td>\n",
       "    </tr>\n",
       "    <tr>\n",
       "      <th>10281</th>\n",
       "      <td>D00004</td>\n",
       "      <td>1</td>\n",
       "      <td>RRCICTTRTCRFPYRRLGTCIFQNRVYTFCC</td>\n",
       "      <td>REAL</td>\n",
       "    </tr>\n",
       "    <tr>\n",
       "      <th>10282</th>\n",
       "      <td>D00005</td>\n",
       "      <td>1</td>\n",
       "      <td>VCSCRLVFCRRTELRVGNCLIGGVSFTYCCTRV</td>\n",
       "      <td>REAL</td>\n",
       "    </tr>\n",
       "  </tbody>\n",
       "</table>\n",
       "</div>"
      ],
      "text/plain": [
       "        PepID  AMPLabel                                  AMP PepType\n",
       "10278  D00001         1    VVCACRRALCLPRERRAGFCRIRGRIHPLCCRR    REAL\n",
       "10279  D00002         1   GICACRRRFCPNSERFSGYCRVNGARYVRCCSRR    REAL\n",
       "10280  D00003         1  LRDLVCYCRSRGCKGRERMNGTCRKGHLLYTLCCR    REAL\n",
       "10281  D00004         1      RRCICTTRTCRFPYRRLGTCIFQNRVYTFCC    REAL\n",
       "10282  D00005         1    VCSCRLVFCRRTELRVGNCLIGGVSFTYCCTRV    REAL"
      ]
     },
     "execution_count": 74,
     "metadata": {},
     "output_type": "execute_result"
    }
   ],
   "source": [
    "# Read Dataset\n",
    "dampd = pd.read_csv(DATA_ROOT)\n",
    "dampd = dampd[dampd.PepID.str.contains('D')][dampd.PepID.str.contains('R') == False]\n",
    "dampd.head()"
   ]
  },
  {
   "cell_type": "code",
   "execution_count": 75,
   "metadata": {},
   "outputs": [
    {
     "name": "stdout",
     "output_type": "stream",
     "text": [
      "TOTAL: 3281\n",
      "POS SAMPLE: (547, 4)\n",
      "NEG SAMPLE: (2734, 4)\n"
     ]
    }
   ],
   "source": [
    "print('TOTAL: ' + str(dampd.shape[0]))\n",
    "print('POS SAMPLE: ' + str(dampd[dampd.AMPLabel == 1].shape))\n",
    "print('NEG SAMPLE: ' + str(dampd[dampd.AMPLabel == 0].shape))"
   ]
  },
  {
   "cell_type": "code",
   "execution_count": 76,
   "metadata": {},
   "outputs": [
    {
     "name": "stdout",
     "output_type": "stream",
     "text": [
      "DescribeResult(nobs=3281, minmax=(11, 710), mean=61.72965559280707, variance=6766.891220887444, skewness=4.286946889960556, kurtosis=23.29724880148834)\n"
     ]
    }
   ],
   "source": [
    "seq_lens = np.array([len(a) for a in dampd['AMP'].tolist()])\n",
    "print(stats.describe(seq_lens))"
   ]
  }
 ],
 "metadata": {
  "kernelspec": {
   "display_name": "Python 3",
   "language": "python",
   "name": "python3"
  },
  "language_info": {
   "codemirror_mode": {
    "name": "ipython",
    "version": 3
   },
   "file_extension": ".py",
   "mimetype": "text/x-python",
   "name": "python",
   "nbconvert_exporter": "python",
   "pygments_lexer": "ipython3",
   "version": "3.6.6"
  }
 },
 "nbformat": 4,
 "nbformat_minor": 2
}
