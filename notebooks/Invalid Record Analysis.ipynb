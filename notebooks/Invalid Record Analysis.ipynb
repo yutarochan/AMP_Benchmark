{
 "cells": [
  {
   "cell_type": "markdown",
   "metadata": {},
   "source": [
    "# Invalid Record Analysis\n",
    "In this notebook, we investigate and analyze the records which were not processed by the server. We aim to provide an empirical reasoning behind why the model may have potentially rejected the provided data."
   ]
  },
  {
   "cell_type": "code",
   "execution_count": 1,
   "metadata": {},
   "outputs": [
    {
     "name": "stderr",
     "output_type": "stream",
     "text": [
      "/usr/local/lib/python3.6/dist-packages/matplotlib/__init__.py:886: MatplotlibDeprecationWarning: \n",
      "examples.directory is deprecated; in the future, examples will be found relative to the 'datapath' directory.\n",
      "  \"found relative to the 'datapath' directory.\".format(key))\n",
      "Process STDOUT and STDERR is being redirected to /tmp/raylogs/.\n",
      "Waiting for redis server at 127.0.0.1:31430 to respond...\n",
      "Waiting for redis server at 127.0.0.1:57022 to respond...\n",
      "Warning: Reducing object store memory because /dev/shm has only 5870469120 bytes available. You may be able to free up space by deleting files in /dev/shm. If you are inside a Docker container, you may need to pass an argument with the flag '--shm-size' to 'docker run'.\n",
      "Starting the Plasma object store with 4.00 GB memory.\n"
     ]
    }
   ],
   "source": [
    "import numpy as np\n",
    "import seaborn as sns\n",
    "from scipy import stats\n",
    "import modin.pandas as pd\n",
    "import matplotlib.pyplot as plt"
   ]
  },
  {
   "cell_type": "markdown",
   "metadata": {},
   "source": [
    "## Guiding Questions\n",
    "In particular, here are some things we will analyze:\n",
    "* Distribution of sequence length of all rejected sequence of peptides.\n",
    "* What are the common set of sequences which are not processed across all servers and across each type of permuation.\n",
    "* Correlation between method of permuation and the frequency of rejection by the server.\n",
    "* Why DBAASP has a highest rate of missing data while it also has the highest AUC/ROC score.\n",
    "* New metric to evaluate the model taking into the account the number of sample it rejected to evaluate."
   ]
  },
  {
   "cell_type": "code",
   "execution_count": 2,
   "metadata": {},
   "outputs": [],
   "source": [
    "# Application Hyperparameters\n",
    "DATA_ROOT = '../data/out/data3.fasta.txt/'\n",
    "# SERVERS = ['ADAM_HMM', 'ADAM_SVM', 'AMPA', 'CAMPR3-ANN', 'CAMPR3-DA', 'CAMPR3-RF', 'CAMPR3-SVM']\n",
    "SERVERS = ['ADAM_HMM', 'ADAM_SVM', 'AMPA', 'CMPR3_ANN', 'CMPR3_DA', 'CMPR3_RF', 'CMPR3_SVM', 'DBAASP']\n",
    "DATASET = ['A', 'D'] # A for AMP3 and D for DAMPD\n",
    "REVERSE = ['', 'R', 'R1', 'R2', 'R3']"
   ]
  },
  {
   "cell_type": "markdown",
   "metadata": {},
   "source": [
    "## Load Dataset"
   ]
  },
  {
   "cell_type": "code",
   "execution_count": 3,
   "metadata": {
    "scrolled": false
   },
   "outputs": [],
   "source": [
    "data = {}\n",
    "for s in SERVERS:\n",
    "    raw = pd.read_csv(DATA_ROOT + s + '.csv')\n",
    "    data[s] = {}\n",
    "    for d in DATASET:\n",
    "        data[s][d] = {}\n",
    "        for r in REVERSE:\n",
    "            # Append True Values\n",
    "            data[s][d][r] = pd.DataFrame(raw[raw.PepID.str.contains(d)][raw.PepID.str.contains('R') == False][raw.AMPLabel == 1])\n",
    "            \n",
    "            # Filter Out by\n",
    "            if r == '':\n",
    "                data[s][d][r] = data[s][d][r].append(raw[raw.PepID.str.contains(d)][raw.AMPLabel == 0][raw.PepID.str.contains('R') == False])\n",
    "            elif r == 'R':\n",
    "                data[s][d][r] = data[s][d][r].append(raw[raw.PepID.str.contains(d)][raw.PepID.str.contains('R') == True][raw.PepID.str.contains('R1') == False][raw.PepID.str.contains('R2') == False][raw.PepID.str.contains('R3') == False])\n",
    "            else:\n",
    "                data[s][d][r] = data[s][d][r].append(raw[raw.PepID.str.contains(d)][raw.PepID.str.contains(r)])\n",
    "            \n",
    "            # print(s + ' ['+d+r+']' + ' : ' + str(data[s][d][r].shape[0]) + ' RECORDS')\n",
    "        # print('-'*30)"
   ]
  },
  {
   "cell_type": "code",
   "execution_count": 4,
   "metadata": {},
   "outputs": [
    {
     "name": "stdout",
     "output_type": "stream",
     "text": [
      "ADAM_HMM [A] (POST-FILTERED): 2 RECORDS (10276 FILTERED)\n",
      "ADAM_HMM [AR] (POST-FILTERED): 0 RECORDS (3426 FILTERED)\n",
      "ADAM_HMM [AR1] (POST-FILTERED): 0 RECORDS (3426 FILTERED)\n",
      "ADAM_HMM [AR2] (POST-FILTERED): 0 RECORDS (3426 FILTERED)\n",
      "ADAM_HMM [AR3] (POST-FILTERED): 0 RECORDS (3426 FILTERED)\n",
      "---------------------------------------------------------------------------\n",
      "ADAM_HMM [D] (POST-FILTERED): 25 RECORDS (3256 FILTERED)\n",
      "ADAM_HMM [DR] (POST-FILTERED): 16 RECORDS (1078 FILTERED)\n",
      "ADAM_HMM [DR1] (POST-FILTERED): 16 RECORDS (1078 FILTERED)\n",
      "ADAM_HMM [DR2] (POST-FILTERED): 16 RECORDS (1078 FILTERED)\n",
      "ADAM_HMM [DR3] (POST-FILTERED): 16 RECORDS (1078 FILTERED)\n",
      "---------------------------------------------------------------------------\n",
      "ADAM_SVM [A] (POST-FILTERED): 4 RECORDS (10274 FILTERED)\n",
      "ADAM_SVM [AR] (POST-FILTERED): 0 RECORDS (3426 FILTERED)\n",
      "ADAM_SVM [AR1] (POST-FILTERED): 0 RECORDS (3426 FILTERED)\n",
      "ADAM_SVM [AR2] (POST-FILTERED): 0 RECORDS (3426 FILTERED)\n",
      "ADAM_SVM [AR3] (POST-FILTERED): 0 RECORDS (3426 FILTERED)\n",
      "---------------------------------------------------------------------------\n",
      "ADAM_SVM [D] (POST-FILTERED): 31 RECORDS (3250 FILTERED)\n",
      "ADAM_SVM [DR] (POST-FILTERED): 26 RECORDS (1068 FILTERED)\n",
      "ADAM_SVM [DR1] (POST-FILTERED): 26 RECORDS (1068 FILTERED)\n",
      "ADAM_SVM [DR2] (POST-FILTERED): 26 RECORDS (1068 FILTERED)\n",
      "ADAM_SVM [DR3] (POST-FILTERED): 26 RECORDS (1068 FILTERED)\n",
      "---------------------------------------------------------------------------\n",
      "AMPA [A] (POST-FILTERED): 31 RECORDS (10247 FILTERED)\n",
      "AMPA [AR] (POST-FILTERED): 37 RECORDS (3389 FILTERED)\n",
      "AMPA [AR1] (POST-FILTERED): 44 RECORDS (3382 FILTERED)\n",
      "AMPA [AR2] (POST-FILTERED): 42 RECORDS (3384 FILTERED)\n",
      "AMPA [AR3] (POST-FILTERED): 42 RECORDS (3384 FILTERED)\n",
      "---------------------------------------------------------------------------\n",
      "AMPA [D] (POST-FILTERED): 5 RECORDS (3276 FILTERED)\n",
      "AMPA [DR] (POST-FILTERED): 5 RECORDS (1089 FILTERED)\n",
      "AMPA [DR1] (POST-FILTERED): 10 RECORDS (1084 FILTERED)\n",
      "AMPA [DR2] (POST-FILTERED): 10 RECORDS (1084 FILTERED)\n",
      "AMPA [DR3] (POST-FILTERED): 10 RECORDS (1084 FILTERED)\n",
      "---------------------------------------------------------------------------\n",
      "CMPR3_ANN [A] (POST-FILTERED): 2 RECORDS (10276 FILTERED)\n",
      "CMPR3_ANN [AR] (POST-FILTERED): 0 RECORDS (3426 FILTERED)\n",
      "CMPR3_ANN [AR1] (POST-FILTERED): 0 RECORDS (3426 FILTERED)\n",
      "CMPR3_ANN [AR2] (POST-FILTERED): 0 RECORDS (3426 FILTERED)\n",
      "CMPR3_ANN [AR3] (POST-FILTERED): 0 RECORDS (3426 FILTERED)\n",
      "---------------------------------------------------------------------------\n",
      "CMPR3_ANN [D] (POST-FILTERED): 17 RECORDS (3264 FILTERED)\n",
      "CMPR3_ANN [DR] (POST-FILTERED): 22 RECORDS (1072 FILTERED)\n",
      "CMPR3_ANN [DR1] (POST-FILTERED): 22 RECORDS (1072 FILTERED)\n",
      "CMPR3_ANN [DR2] (POST-FILTERED): 22 RECORDS (1072 FILTERED)\n",
      "CMPR3_ANN [DR3] (POST-FILTERED): 22 RECORDS (1072 FILTERED)\n",
      "---------------------------------------------------------------------------\n",
      "CMPR3_DA [A] (POST-FILTERED): 2 RECORDS (10276 FILTERED)\n",
      "CMPR3_DA [AR] (POST-FILTERED): 0 RECORDS (3426 FILTERED)\n",
      "CMPR3_DA [AR1] (POST-FILTERED): 0 RECORDS (3426 FILTERED)\n",
      "CMPR3_DA [AR2] (POST-FILTERED): 0 RECORDS (3426 FILTERED)\n",
      "CMPR3_DA [AR3] (POST-FILTERED): 0 RECORDS (3426 FILTERED)\n",
      "---------------------------------------------------------------------------\n",
      "CMPR3_DA [D] (POST-FILTERED): 17 RECORDS (3264 FILTERED)\n",
      "CMPR3_DA [DR] (POST-FILTERED): 22 RECORDS (1072 FILTERED)\n",
      "CMPR3_DA [DR1] (POST-FILTERED): 22 RECORDS (1072 FILTERED)\n",
      "CMPR3_DA [DR2] (POST-FILTERED): 22 RECORDS (1072 FILTERED)\n",
      "CMPR3_DA [DR3] (POST-FILTERED): 22 RECORDS (1072 FILTERED)\n",
      "---------------------------------------------------------------------------\n",
      "CMPR3_RF [A] (POST-FILTERED): 2 RECORDS (10276 FILTERED)\n",
      "CMPR3_RF [AR] (POST-FILTERED): 0 RECORDS (3426 FILTERED)\n",
      "CMPR3_RF [AR1] (POST-FILTERED): 0 RECORDS (3426 FILTERED)\n",
      "CMPR3_RF [AR2] (POST-FILTERED): 0 RECORDS (3426 FILTERED)\n",
      "CMPR3_RF [AR3] (POST-FILTERED): 0 RECORDS (3426 FILTERED)\n",
      "---------------------------------------------------------------------------\n",
      "CMPR3_RF [D] (POST-FILTERED): 48 RECORDS (3233 FILTERED)\n",
      "CMPR3_RF [DR] (POST-FILTERED): 22 RECORDS (1072 FILTERED)\n",
      "CMPR3_RF [DR1] (POST-FILTERED): 22 RECORDS (1072 FILTERED)\n",
      "CMPR3_RF [DR2] (POST-FILTERED): 22 RECORDS (1072 FILTERED)\n",
      "CMPR3_RF [DR3] (POST-FILTERED): 22 RECORDS (1072 FILTERED)\n",
      "---------------------------------------------------------------------------\n",
      "CMPR3_SVM [A] (POST-FILTERED): 2 RECORDS (10276 FILTERED)\n",
      "CMPR3_SVM [AR] (POST-FILTERED): 0 RECORDS (3426 FILTERED)\n",
      "CMPR3_SVM [AR1] (POST-FILTERED): 0 RECORDS (3426 FILTERED)\n",
      "CMPR3_SVM [AR2] (POST-FILTERED): 0 RECORDS (3426 FILTERED)\n",
      "CMPR3_SVM [AR3] (POST-FILTERED): 0 RECORDS (3426 FILTERED)\n",
      "---------------------------------------------------------------------------\n",
      "CMPR3_SVM [D] (POST-FILTERED): 17 RECORDS (3264 FILTERED)\n",
      "CMPR3_SVM [DR] (POST-FILTERED): 22 RECORDS (1072 FILTERED)\n",
      "CMPR3_SVM [DR1] (POST-FILTERED): 22 RECORDS (1072 FILTERED)\n",
      "CMPR3_SVM [DR2] (POST-FILTERED): 22 RECORDS (1072 FILTERED)\n",
      "CMPR3_SVM [DR3] (POST-FILTERED): 22 RECORDS (1072 FILTERED)\n",
      "---------------------------------------------------------------------------\n",
      "DBAASP [A] (POST-FILTERED): 187 RECORDS (10091 FILTERED)\n",
      "DBAASP [AR] (POST-FILTERED): 62 RECORDS (3364 FILTERED)\n",
      "DBAASP [AR1] (POST-FILTERED): 62 RECORDS (3364 FILTERED)\n",
      "DBAASP [AR2] (POST-FILTERED): 62 RECORDS (3364 FILTERED)\n",
      "DBAASP [AR3] (POST-FILTERED): 62 RECORDS (3364 FILTERED)\n",
      "---------------------------------------------------------------------------\n",
      "DBAASP [D] (POST-FILTERED): 456 RECORDS (2825 FILTERED)\n",
      "DBAASP [DR] (POST-FILTERED): 166 RECORDS (928 FILTERED)\n",
      "DBAASP [DR1] (POST-FILTERED): 166 RECORDS (928 FILTERED)\n",
      "DBAASP [DR2] (POST-FILTERED): 166 RECORDS (928 FILTERED)\n",
      "DBAASP [DR3] (POST-FILTERED): 167 RECORDS (927 FILTERED)\n",
      "---------------------------------------------------------------------------\n"
     ]
    }
   ],
   "source": [
    "# Filter -999 Values\n",
    "for s in SERVERS:\n",
    "    for d in DATASET:\n",
    "        for r in REVERSE:\n",
    "            pre_filter = data[s][d][r].shape[0]\n",
    "            data[s][d][r] = data[s][d][r][data[s][d][r].PredLabel == -999]\n",
    "            print(s + ' ['+d+r+']' + ' (POST-FILTERED): ' + str(data[s][d][r].shape[0]) + ' RECORDS ' + '('+ str(pre_filter - data[s][d][r].shape[0]) +' FILTERED)')\n",
    "        print('-'*75)"
   ]
  },
  {
   "cell_type": "markdown",
   "metadata": {},
   "source": [
    "## Sequence Length Intersection\n",
    "This section analyzes the overall distribution of the sequence length of rejected value. We hypothesize that the longer the sequence, the less likely the model will process that data."
   ]
  },
  {
   "cell_type": "code",
   "execution_count": 5,
   "metadata": {},
   "outputs": [
    {
     "name": "stdout",
     "output_type": "stream",
     "text": [
      "DescribeResult(nobs=2481, minmax=(11, 712), mean=137.03264812575574, variance=14892.554982057183, skewness=2.1844421950277315, kurtosis=6.299158247304865)\n"
     ]
    }
   ],
   "source": [
    "seq_lens = []\n",
    "for d in DATASET:\n",
    "    for s in SERVERS:\n",
    "        for r in REVERSE:\n",
    "            if data[s][d][r].shape[0] > 0:\n",
    "                seq_lens += data[s][d][r]['PepSeq'].apply(len).tolist()\n",
    "\n",
    "print(stats.describe(seq_lens))"
   ]
  },
  {
   "cell_type": "code",
   "execution_count": 6,
   "metadata": {},
   "outputs": [
    {
     "data": {
      "image/png": "[encoded data removed]",
      "text/plain": [
       "<Figure size 432x288 with 1 Axes>"
      ]
     },
     "metadata": {
      "needs_background": "light"
     },
     "output_type": "display_data"
    }
   ],
   "source": [
    "plt.hist(seq_lens, bins=50)\n",
    "plt.show()"
   ]
  },
  {
   "cell_type": "markdown",
   "metadata": {},
   "source": [
    "## Inner-Model + Data Intersection Analysis\n",
    "This attempts to analyze the intersection of elements which are not valid across different permutations with respect to the different permutation methods."
   ]
  },
  {
   "cell_type": "code",
   "execution_count": 7,
   "metadata": {
    "scrolled": false
   },
   "outputs": [
    {
     "name": "stdout",
     "output_type": "stream",
     "text": [
      "[A] ADAM_HMM\n",
      "['A06714', 'A09393']\n",
      "[A] ADAM_SVM\n",
      "['A06708', 'A06720', 'A09383', 'A09392']\n",
      "[A] AMPA\n",
      "['A00070', 'A00073', 'A00111', 'A00129', 'A00188', 'A00193', 'A00204', 'A00235', 'A00309', 'A00368', 'A00912', 'A01386', 'A01447', 'A01703', 'A03437', 'A03635', 'A03976', 'A04459', 'A05453', 'A06094', 'A06133', 'A06134', 'A06138', 'A06886', 'A06887', 'A08880', 'A09899', 'A10751', 'A10753', 'A10754', 'A11790']\n",
      "[A] CMPR3_ANN\n",
      "['A06722', 'A09393']\n",
      "[A] CMPR3_DA\n",
      "['A06722', 'A09393']\n",
      "[A] CMPR3_RF\n",
      "['A06722', 'A09393']\n",
      "[A] CMPR3_SVM\n",
      "['A06722', 'A09393']\n",
      "[A] DBAASP\n",
      "['A01209', 'A01210', 'A01242', 'A01244', 'A01245', 'A01246', 'A01247', 'A01248', 'A01253', 'A01266', 'A01267', 'A01269', 'A01271', 'A01273', 'A01305', 'A01321', 'A01334', 'A01335', 'A01337', 'A01346', 'A01381', 'A01382', 'A01383', 'A01694', 'A01695', 'A01696', 'A01697', 'A01698', 'A01707', 'A01712', 'A01713', 'A04522', 'A04523', 'A04555', 'A04557', 'A04558', 'A04559', 'A04560', 'A04561', 'A04566', 'A04579', 'A04580', 'A04582', 'A04584', 'A04586', 'A04618', 'A04634', 'A04647', 'A04648', 'A04650', 'A04659', 'A04694', 'A04695', 'A04696', 'A05007', 'A05008', 'A05009', 'A05010', 'A05011', 'A05020', 'A05025', 'A05026', 'A06235', 'A06236', 'A06268', 'A06270', 'A06271', 'A06272', 'A06273', 'A06274', 'A06279', 'A06292', 'A06293', 'A06295', 'A06297', 'A06299', 'A06331', 'A06347', 'A06360', 'A06361', 'A06363', 'A06372', 'A06407', 'A06408', 'A06409', 'A06720', 'A06721', 'A06722', 'A06723', 'A06724', 'A06733', 'A06738', 'A06739', 'A07948', 'A07949', 'A07981', 'A07983', 'A07984', 'A07985', 'A07986', 'A07987', 'A07992', 'A08005', 'A08006', 'A08008', 'A08010', 'A08012', 'A08044', 'A08060', 'A08073', 'A08074', 'A08076', 'A08085', 'A08120', 'A08121', 'A08122', 'A08433', 'A08434', 'A08435', 'A08436', 'A08437', 'A08446', 'A08451', 'A08452', 'A09393', 'A09661', 'A09662', 'A09694', 'A09696', 'A09697', 'A09698', 'A09699', 'A09700', 'A09705', 'A09718', 'A09719', 'A09721', 'A09723', 'A09725', 'A09757', 'A09773', 'A09786', 'A09787', 'A09789', 'A09798', 'A09833', 'A09834', 'A09835', 'A10146', 'A10147', 'A10148', 'A10149', 'A10150', 'A10159', 'A10164', 'A10165', 'A11374', 'A11375', 'A11407', 'A11409', 'A11410', 'A11411', 'A11412', 'A11413', 'A11418', 'A11431', 'A11432', 'A11434', 'A11436', 'A11438', 'A11470', 'A11486', 'A11499', 'A11500', 'A11502', 'A11511', 'A11546', 'A11547', 'A11548', 'A11859', 'A11860', 'A11861', 'A11862', 'A11863', 'A11872', 'A11877', 'A11878']\n",
      "[D] ADAM_HMM\n",
      "['D00277', 'D00286', 'D00389', 'D00394', 'D00395', 'D00396', 'D00397', 'D00399', 'D00405', 'D00424', 'D00427', 'D00432', 'D00435', 'D00442', 'D00461', 'D00486', 'D02542', 'D02547', 'D02551', 'D02645', 'D02663', 'D03213', 'D03595', 'D04251', 'D04463']\n",
      "[D] ADAM_SVM\n",
      "['D00278', 'D00286', 'D00392', 'D00399', 'D00402', 'D00405', 'D00407', 'D00411', 'D00423', 'D00424', 'D00427', 'D00433', 'D00442', 'D00461', 'D00489', 'D02545', 'D02563', 'D02642', 'D02645', 'D02646', 'D02648', 'D03201', 'D03220', 'D03229', 'D03596', 'D04245', 'D04254', 'D04257', 'D04259', 'D04263', 'D04478']\n",
      "[D] AMPA\n",
      "['D00004', 'D02838', 'D03561', 'D03680', 'D03963']\n",
      "[D] CMPR3_ANN\n",
      "['D00278', 'D00291', 'D00294', 'D00396', 'D00399', 'D00405', 'D00424', 'D00435', 'D00443', 'D00463', 'D00491', 'D02547', 'D02645', 'D03230', 'D03596', 'D04257', 'D04478']\n",
      "[D] CMPR3_DA\n",
      "['D00278', 'D00291', 'D00294', 'D00396', 'D00399', 'D00405', 'D00424', 'D00435', 'D00443', 'D00463', 'D00491', 'D02547', 'D02645', 'D03230', 'D03596', 'D04257', 'D04478']\n",
      "[D] CMPR3_RF\n",
      "['D00278', 'D00291', 'D00294', 'D00396', 'D00399', 'D00405', 'D00424', 'D00435', 'D00443', 'D00463', 'D00491', 'D02547', 'D02645', 'D03230', 'D03596', 'D04257', 'D04478', 'D04816', 'D04817', 'D04818', 'D04819', 'D04820', 'D04821', 'D04822', 'D04823', 'D04824', 'D04825', 'D04826', 'D04827', 'D04828', 'D04829', 'D04830', 'D04831', 'D04832', 'D04833', 'D04834', 'D04835', 'D04836', 'D04837', 'D04838', 'D04839', 'D04840', 'D04841', 'D04842', 'D04843', 'D04844', 'D04845', 'D04846']\n",
      "[D] CMPR3_SVM\n",
      "['D00278', 'D00291', 'D00294', 'D00396', 'D00399', 'D00405', 'D00424', 'D00435', 'D00443', 'D00463', 'D00491', 'D02547', 'D02645', 'D03230', 'D03596', 'D04257', 'D04478']\n",
      "[D] DBAASP\n",
      "['D00054', 'D00056', 'D00057', 'D00184', 'D00278', 'D00291', 'D00294', 'D00318', 'D00319', 'D00322', 'D00328', 'D00329', 'D00331', 'D00334', 'D00335', 'D00338', 'D00340', 'D00341', 'D00342', 'D00343', 'D00344', 'D00346', 'D00347', 'D00349', 'D00350', 'D00369', 'D00372', 'D00376', 'D00378', 'D00379', 'D00382', 'D00383', 'D00386', 'D00387', 'D00388', 'D00390', 'D00393', 'D00396', 'D00399', 'D00400', 'D00401', 'D00405', 'D00407', 'D00409', 'D00423', 'D00424', 'D00430', 'D00435', 'D00437', 'D00438', 'D00443', 'D00461', 'D00462', 'D00463', 'D00480', 'D00489', 'D00491', 'D00494', 'D00504', 'D00506', 'D00507', 'D00508', 'D00509', 'D00510', 'D00511', 'D00512', 'D00513', 'D00515', 'D00518', 'D00520', 'D00523', 'D00524', 'D00529', 'D00531', 'D00533', 'D00534', 'D00538', 'D00540', 'D00541', 'D00543', 'D00544', 'D00545', 'D00546', 'D02187', 'D02189', 'D02190', 'D02317', 'D02430', 'D02431', 'D02434', 'D02440', 'D02441', 'D02443', 'D02446', 'D02447', 'D02450', 'D02452', 'D02453', 'D02454', 'D02455', 'D02456', 'D02458', 'D02459', 'D02461', 'D02462', 'D02481', 'D02484', 'D02488', 'D02490', 'D02491', 'D02494', 'D02495', 'D02498', 'D02499', 'D02500', 'D02502', 'D02505', 'D02512', 'D02513', 'D02519', 'D02521', 'D02535', 'D02542', 'D02547', 'D02549', 'D02550', 'D02573', 'D02574', 'D02575', 'D02592', 'D02601', 'D02603', 'D02606', 'D02616', 'D02618', 'D02619', 'D02620', 'D02621', 'D02622', 'D02623', 'D02624', 'D02625', 'D02627', 'D02630', 'D02632', 'D02635', 'D02636', 'D02641', 'D02643', 'D02645', 'D02646', 'D02650', 'D02652', 'D02653', 'D02655', 'D02656', 'D02657', 'D02658', 'D02734', 'D02736', 'D02737', 'D02864', 'D02977', 'D02978', 'D02981', 'D02987', 'D02988', 'D02990', 'D02993', 'D02994', 'D02997', 'D02999', 'D03000', 'D03001', 'D03002', 'D03003', 'D03005', 'D03006', 'D03008', 'D03009', 'D03028', 'D03031', 'D03035', 'D03037', 'D03038', 'D03041', 'D03042', 'D03045', 'D03046', 'D03047', 'D03049', 'D03052', 'D03059', 'D03060', 'D03066', 'D03068', 'D03082', 'D03089', 'D03096', 'D03097', 'D03120', 'D03121', 'D03122', 'D03139', 'D03148', 'D03150', 'D03153', 'D03163', 'D03165', 'D03166', 'D03167', 'D03168', 'D03169', 'D03170', 'D03171', 'D03172', 'D03174', 'D03177', 'D03179', 'D03182', 'D03183', 'D03188', 'D03190', 'D03192', 'D03193', 'D03197', 'D03199', 'D03200', 'D03202', 'D03203', 'D03204', 'D03205', 'D03230', 'D03281', 'D03283', 'D03284', 'D03411', 'D03524', 'D03525', 'D03528', 'D03534', 'D03535', 'D03537', 'D03540', 'D03541', 'D03544', 'D03546', 'D03547', 'D03548', 'D03549', 'D03550', 'D03552', 'D03553', 'D03555', 'D03556', 'D03575', 'D03578', 'D03582', 'D03584', 'D03585', 'D03588', 'D03589', 'D03592', 'D03593', 'D03594', 'D03596', 'D03599', 'D03606', 'D03607', 'D03613', 'D03615', 'D03629', 'D03636', 'D03643', 'D03644', 'D03667', 'D03668', 'D03669', 'D03686', 'D03695', 'D03697', 'D03700', 'D03710', 'D03712', 'D03713', 'D03714', 'D03715', 'D03716', 'D03717', 'D03718', 'D03719', 'D03721', 'D03724', 'D03726', 'D03729', 'D03730', 'D03735', 'D03737', 'D03739', 'D03740', 'D03744', 'D03746', 'D03747', 'D03749', 'D03750', 'D03751', 'D03752', 'D03828', 'D03830', 'D03831', 'D03958', 'D04071', 'D04072', 'D04075', 'D04081', 'D04082', 'D04084', 'D04087', 'D04088', 'D04091', 'D04093', 'D04094', 'D04095', 'D04096', 'D04097', 'D04099', 'D04100', 'D04102', 'D04103', 'D04122', 'D04125', 'D04129', 'D04131', 'D04132', 'D04135', 'D04136', 'D04139', 'D04140', 'D04141', 'D04143', 'D04146', 'D04153', 'D04154', 'D04160', 'D04162', 'D04176', 'D04183', 'D04190', 'D04191', 'D04214', 'D04215', 'D04216', 'D04233', 'D04242', 'D04244', 'D04247', 'D04257', 'D04259', 'D04260', 'D04261', 'D04262', 'D04263', 'D04264', 'D04265', 'D04266', 'D04268', 'D04271', 'D04273', 'D04276', 'D04277', 'D04282', 'D04284', 'D04286', 'D04287', 'D04291', 'D04293', 'D04294', 'D04296', 'D04297', 'D04298', 'D04299', 'D04375', 'D04377', 'D04378', 'D04478', 'D04505', 'D04618', 'D04619', 'D04622', 'D04628', 'D04629', 'D04631', 'D04634', 'D04635', 'D04638', 'D04640', 'D04641', 'D04642', 'D04643', 'D04644', 'D04646', 'D04647', 'D04649', 'D04650', 'D04669', 'D04672', 'D04676', 'D04678', 'D04679', 'D04682', 'D04683', 'D04686', 'D04687', 'D04688', 'D04690', 'D04693', 'D04700', 'D04701', 'D04707', 'D04709', 'D04723', 'D04730', 'D04737', 'D04738', 'D04761', 'D04762', 'D04763', 'D04780', 'D04789', 'D04791', 'D04794', 'D04804', 'D04806', 'D04807', 'D04808', 'D04809', 'D04810', 'D04811', 'D04812', 'D04813', 'D04815', 'D04818', 'D04820', 'D04823', 'D04824', 'D04829', 'D04831', 'D04833', 'D04834', 'D04838', 'D04840', 'D04841', 'D04843', 'D04844', 'D04845', 'D04846']\n"
     ]
    }
   ],
   "source": [
    "for d in DATASET:\n",
    "    for s in SERVERS:\n",
    "        print('[' + d + ']' + ' ' + s)\n",
    "        sets = []\n",
    "        for r in REVERSE:\n",
    "            if data[s][d][r].shape[0] > 0:\n",
    "                sets.append(data[s][d][r]['PepID'].tolist())\n",
    "        result = set(sets[0]).intersection(*sets[:1])\n",
    "        print(sorted(list(result)))"
   ]
  }
 ],
 "metadata": {
  "kernelspec": {
   "display_name": "Python 3",
   "language": "python",
   "name": "python3"
  },
  "language_info": {
   "codemirror_mode": {
    "name": "ipython",
    "version": 3
   },
   "file_extension": ".py",
   "mimetype": "text/x-python",
   "name": "python",
   "nbconvert_exporter": "python",
   "pygments_lexer": "ipython3",
   "version": "3.6.7"
  }
 },
 "nbformat": 4,
 "nbformat_minor": 2
}
